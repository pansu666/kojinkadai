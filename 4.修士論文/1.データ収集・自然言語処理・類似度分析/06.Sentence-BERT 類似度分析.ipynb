{
 "cells": [
  {
   "cell_type": "code",
   "execution_count": 1,
   "id": "af1e8d4b",
   "metadata": {},
   "outputs": [
    {
     "name": "stderr",
     "output_type": "stream",
     "text": [
      "C:\\Users\\kimpa\\anaconda3\\lib\\site-packages\\torchaudio\\backend\\utils.py:62: UserWarning: No audio backend is available.\n",
      "  warnings.warn(\"No audio backend is available.\")\n"
     ]
    }
   ],
   "source": [
    "#ライブラリ読み込み\n",
    "from transformers import BertJapaneseTokenizer, BertModel\n",
    "import torch\n",
    "import os\n",
    "import numpy as np\n",
    "import pandas as pd\n",
    "import matplotlib.pyplot as plt\n",
    "import seaborn as sns\n",
    "from wordcloud import WordCloud\n",
    "from janome.tokenizer import Tokenizer\n",
    "import re\n",
    "import seaborn as sns\n",
    "%matplotlib inline\n",
    "from transformers import *\n",
    "from sklearn.model_selection import train_test_split\n",
    "from tqdm import tqdm\n",
    "import tensorflow as tf\n",
    "from tensorflow.keras.preprocessing.sequence import pad_sequences\n",
    "from tensorflow.keras.callbacks import EarlyStopping, ModelCheckpoint\n",
    "import torch.backends.cudnn as cudnn\n",
    "import random\n",
    "import scipy.spatial\n",
    "from sentence_transformers import SentenceTransformer, util"
   ]
  },
  {
   "cell_type": "markdown",
   "id": "f4a77dea",
   "metadata": {},
   "source": [
    "# データ読み込み"
   ]
  },
  {
   "cell_type": "code",
   "execution_count": 3,
   "id": "e540c050",
   "metadata": {},
   "outputs": [],
   "source": [
    "DATA_IN_PATH = \"C:/r_analysis/1.20221101/\"\n",
    "train=pd.read_csv(DATA_IN_PATH + 'data_complete_34814.csv',header=0,encoding=\"cp932\")\n",
    "data=train['review_cleansing']\n",
    "data=pd.Series(data)\n",
    "data=data.tolist()"
   ]
  },
  {
   "cell_type": "markdown",
   "id": "37d9c178",
   "metadata": {},
   "source": [
    "# Sentence-BERT"
   ]
  },
  {
   "cell_type": "code",
   "execution_count": 4,
   "id": "cc831ed3",
   "metadata": {},
   "outputs": [],
   "source": [
    "\n",
    "class SentenceBertJapanese:\n",
    "    def __init__(self, model_name_or_path, device=None):\n",
    "        self.tokenizer = BertJapaneseTokenizer.from_pretrained(model_name_or_path)\n",
    "        self.model = BertModel.from_pretrained(model_name_or_path)\n",
    "        self.model.eval()\n",
    "\n",
    "        if device is None:\n",
    "            device = \"cuda\" if torch.cuda.is_available() else \"cpu\"\n",
    "        self.device = torch.device(device)\n",
    "        self.model.to(device)\n",
    "\n",
    "    def _mean_pooling(self, model_output, attention_mask):\n",
    "        token_embeddings = model_output[0] #First element of model_output contains all token embeddings\n",
    "        input_mask_expanded = attention_mask.unsqueeze(-1).expand(token_embeddings.size()).float()\n",
    "        return torch.sum(token_embeddings * input_mask_expanded, 1) / torch.clamp(input_mask_expanded.sum(1), min=1e-9)\n",
    "\n",
    "    def encode(self, sentences, batch_size=8):\n",
    "        all_embeddings = []\n",
    "        iterator = range(0, len(sentences), batch_size)\n",
    "        for batch_idx in iterator:\n",
    "            batch = sentences[batch_idx:batch_idx + batch_size]\n",
    "\n",
    "            encoded_input = self.tokenizer.batch_encode_plus(batch, padding=\"longest\", \n",
    "                                           truncation=True, return_tensors=\"pt\").to(self.device)\n",
    "            model_output = self.model(**encoded_input)\n",
    "            sentence_embeddings = self._mean_pooling(model_output, encoded_input[\"attention_mask\"]).to('cpu')\n",
    "\n",
    "            all_embeddings.extend(sentence_embeddings)\n",
    "\n",
    "        # return torch.stack(all_embeddings).numpy()\n",
    "        return torch.stack(all_embeddings)\n",
    "\n"
   ]
  },
  {
   "cell_type": "code",
   "execution_count": 5,
   "id": "459865ab",
   "metadata": {},
   "outputs": [
    {
     "name": "stderr",
     "output_type": "stream",
     "text": [
      "loading file https://huggingface.co/sonoisa/sentence-bert-base-ja-mean-tokens-v2/resolve/main/vocab.txt from cache at C:\\Users\\kimpa/.cache\\huggingface\\transformers\\ebbda1022f98b7e946d3ef6d0f741839e781bc7e0473706b7a6507a84434caee.a7378a0cbee5cff668832a776d72b97a25479604fe9564d5595897f75049e7f4\n",
      "loading file https://huggingface.co/sonoisa/sentence-bert-base-ja-mean-tokens-v2/resolve/main/added_tokens.json from cache at None\n",
      "loading file https://huggingface.co/sonoisa/sentence-bert-base-ja-mean-tokens-v2/resolve/main/special_tokens_map.json from cache at C:\\Users\\kimpa/.cache\\huggingface\\transformers\\a5a03392304e8c829ac0f9db58c32b9557ae97cc36a346a2d0bf2f39bf3ce642.dd8bd9bfd3664b530ea4e645105f557769387b3da9f79bdb55ed556bdd80611d\n",
      "loading file https://huggingface.co/sonoisa/sentence-bert-base-ja-mean-tokens-v2/resolve/main/tokenizer_config.json from cache at C:\\Users\\kimpa/.cache\\huggingface\\transformers\\f184397309e60b06383c3ecb1c0d72b957c101b45068ee5e2e853e36b6b02e06.23b7e22423c9bd0f17314f2ed70a1fd32bf0907b14801e5ce96d404f80b125df\n",
      "loading configuration file https://huggingface.co/sonoisa/sentence-bert-base-ja-mean-tokens-v2/resolve/main/config.json from cache at C:\\Users\\kimpa/.cache\\huggingface\\transformers\\35e764e23f19447256c4d3d342f393c84bac443ef3957f4de32ea1b1a165f076.f3aee992bfcf67cf7195514125e76cca06d64be34e05465ecb5edd99b37e41ab\n",
      "Model config BertConfig {\n",
      "  \"_name_or_path\": \"/content/model/\",\n",
      "  \"architectures\": [\n",
      "    \"BertModel\"\n",
      "  ],\n",
      "  \"attention_probs_dropout_prob\": 0.1,\n",
      "  \"classifier_dropout\": null,\n",
      "  \"hidden_act\": \"gelu\",\n",
      "  \"hidden_dropout_prob\": 0.1,\n",
      "  \"hidden_size\": 768,\n",
      "  \"initializer_range\": 0.02,\n",
      "  \"intermediate_size\": 3072,\n",
      "  \"layer_norm_eps\": 1e-12,\n",
      "  \"max_position_embeddings\": 512,\n",
      "  \"model_type\": \"bert\",\n",
      "  \"num_attention_heads\": 12,\n",
      "  \"num_hidden_layers\": 12,\n",
      "  \"pad_token_id\": 0,\n",
      "  \"position_embedding_type\": \"absolute\",\n",
      "  \"tokenizer_class\": \"BertJapaneseTokenizer\",\n",
      "  \"torch_dtype\": \"float32\",\n",
      "  \"transformers_version\": \"4.21.2\",\n",
      "  \"type_vocab_size\": 2,\n",
      "  \"use_cache\": true,\n",
      "  \"vocab_size\": 32000\n",
      "}\n",
      "\n",
      "loading weights file https://huggingface.co/sonoisa/sentence-bert-base-ja-mean-tokens-v2/resolve/main/pytorch_model.bin from cache at C:\\Users\\kimpa/.cache\\huggingface\\transformers\\8534adf7f57587f0c948766a74220b608829bc9085a065f92ce4bb32ca5912d0.7e0cabab820e96673d159ffb4450e07eca1959a74cfd3673c784cba1b93930f6\n",
      "All model checkpoint weights were used when initializing BertModel.\n",
      "\n",
      "All the weights of BertModel were initialized from the model checkpoint at sonoisa/sentence-bert-base-ja-mean-tokens-v2.\n",
      "If your task is similar to the task the model of the checkpoint was trained on, you can already use BertModel for predictions without further training.\n"
     ]
    }
   ],
   "source": [
    "\n",
    "MODEL_NAME = \"sonoisa/sentence-bert-base-ja-mean-tokens-v2\"  # <- v2です。\n",
    "model = SentenceBertJapanese(MODEL_NAME)\n"
   ]
  },
  {
   "cell_type": "markdown",
   "id": "610f0ae0",
   "metadata": {},
   "source": [
    "# 文章ベクトル読み込み"
   ]
  },
  {
   "cell_type": "code",
   "execution_count": 6,
   "id": "1224c269",
   "metadata": {},
   "outputs": [],
   "source": [
    "DATA_IN_PATH_SURVEY = \"C:/r_analysis/1.20221101/5.numpy_survey/\"\n",
    "DATA_IN_PATH_SEICHO = \"C:/r_analysis/1.20221101/4.numpy_review/\"\n",
    "DATA_IN_PATH = \"C:/r_analysis/1.20221101/\""
   ]
  },
  {
   "cell_type": "code",
   "execution_count": 7,
   "id": "139f3c88",
   "metadata": {},
   "outputs": [],
   "source": []
  },
  {
   "cell_type": "code",
   "execution_count": 8,
   "id": "0b09b8e6",
   "metadata": {},
   "outputs": [],
   "source": [
    "#レビューデータのベクトル読み込み\n",
    "sentence_vectors_seicho= np.load(DATA_IN_PATH_SEICHO+'complete_34814.npy')\n",
    "\n",
    "#設問項目のベクトル読み込み\n",
    "files = os.listdir(DATA_IN_PATH + \"/3.survey_text/\")\n",
    "files1 = os.listdir(DATA_IN_PATH + \"/5.numpy_survey/\")\n",
    "\n",
    "\n",
    "for i in files:\n",
    "     globals()[i.split('.')[0]+str(\"_query\")] = pd.read_csv(DATA_IN_PATH + \"/3.survey_text/\"+i,header=0,encoding=\"cp932\")\n",
    "        \n",
    "for i in files1:\n",
    "    globals()[i.split('.')[0]] = np.load(DATA_IN_PATH_SURVEY+ i)"
   ]
  },
  {
   "cell_type": "code",
   "execution_count": 10,
   "id": "203ae21f",
   "metadata": {
    "collapsed": true
   },
   "outputs": [
    {
     "name": "stdout",
     "output_type": "stream",
     "text": [
      "==================================================================\n",
      "항목명1 : CM_001\n",
      "항목수 : 7\n",
      "설문리스트\n",
      "0           仕事生活の残りを今の会社で過ごせたらとても幸せだ\n",
      "1            会社の外の人に自分の会社のことを話すのが楽しい\n",
      "2    この会社の問題をまるで自分自身の問題であるかのように感じている\n",
      "3              会社という家族の一員になっているように思う\n",
      "4                   この会社に愛情を感じていると思う\n",
      "5          この会社は私にとって個人的に重要な意味を持っている\n",
      "6             自分の会社の一員なのだと強く感じることがある\n",
      "Name: q, dtype: object\n",
      "-------------------------------------------------------------------\n",
      "엠베딩벡터값\n",
      "[[-0.25652558  0.7605516  -0.3163144  ...  1.2289509  -0.08685125\n",
      "  -0.18210262]\n",
      " [-0.2167822  -0.03472124  0.2513897  ...  0.01958281 -0.96365887\n",
      "   0.31388605]\n",
      " [ 0.42096493  0.2829342  -0.17844585 ...  0.935098    0.14363\n",
      "   0.03774778]\n",
      " ...\n",
      " [-0.5979044   0.45443568 -0.27390715 ...  0.5848064  -0.10046559\n",
      "  -0.93840545]\n",
      " [ 0.8903785   0.60978997 -0.66844815 ... -0.96348596 -0.95518684\n",
      "   0.05216397]\n",
      " [ 0.07852855  0.20395797 -0.45646304 ...  0.67746276 -0.4970082\n",
      "  -0.21662432]]\n",
      "==================================================================\n",
      "==================================================================\n",
      "항목명1 : CM_002\n",
      "항목수 : 7\n",
      "설문리스트\n",
      "0                                 この会社を辞めるなんて自分に考えられない\n",
      "1                  たとえこの会社を今すぐに辞めようと思っても実際に辞めるのはとても難しい\n",
      "2                   いま会社を辞める決意をしたら私の人生の極めて多くが崩れてしまうだろう\n",
      "3                                   いま会社を辞めたら損をするように思う\n",
      "4                 いまこの会社に勤めている理由は勤めたいからではなく勤める必要があるからだ\n",
      "5                        会社を辞めたとしたら代わりの勤め先が見つからずに困るだろう\n",
      "6    この会社に勤めている大きな理由はほかの会社に入ってもここでもらっているだけの報酬が得られないからだ\n",
      "Name: q, dtype: object\n",
      "-------------------------------------------------------------------\n",
      "엠베딩벡터값\n",
      "[[ 0.07407766 -0.6992127  -0.16250578 ...  0.96484184  0.01580027\n",
      "   0.43884695]\n",
      " [ 0.86843616 -0.2886303   0.723064   ...  0.7017383   0.11164296\n",
      "  -0.23857923]\n",
      " [-0.258734   -0.67794734  0.30169225 ...  0.14299497 -0.44412282\n",
      "   0.06383462]\n",
      " ...\n",
      " [ 0.5329698   0.06418232 -0.30027857 ...  0.22510529 -0.22073953\n",
      "  -0.6746801 ]\n",
      " [ 0.10049661 -0.45735022 -0.0154281  ...  0.9530248   0.25682408\n",
      "  -0.49189708]\n",
      " [-0.04772129 -0.41408563 -0.93988967 ...  0.74949324  0.3041773\n",
      "  -0.49319482]]\n",
      "==================================================================\n",
      "==================================================================\n",
      "항목명1 : CM_003\n",
      "항목수 : 7\n",
      "설문리스트\n",
      "0              最近の人はあまりにも頻繋に転職をしすぎると思う\n",
      "1     従業員は常に自分の会社に忠誠心を持たなければならないと思っている\n",
      "2             会社から会社へと渡り歩くことは倫理に反すると思う\n",
      "3                この会社で働くことに道徳的義務を感じている\n",
      "4    ほかの会社からもっと良い仕事を提示されてもこの会社を辞めないだろう\n",
      "5     一つの会社にずっと勤める方が残りの仕事生活を有効に過ごせると思う\n",
      "6                会社的人間になりたがるのは賢明なことである\n",
      "Name: q, dtype: object\n",
      "-------------------------------------------------------------------\n",
      "엠베딩벡터값\n",
      "[[ 0.34692356 -0.4625891   0.54708594 ...  0.1145634  -0.00763302\n",
      "  -0.37668496]\n",
      " [ 0.88253343  0.835858   -0.40316942 ...  1.060349   -0.10833078\n",
      "  -1.1749848 ]\n",
      " [-0.05000415  1.194766   -0.26604462 ...  1.2094125  -0.14820446\n",
      "   0.19846946]\n",
      " ...\n",
      " [ 0.3583982  -0.35738805 -0.3085775  ...  0.49257123  0.52435035\n",
      "  -0.6881809 ]\n",
      " [ 0.3696082   0.5077395   0.4499541  ...  0.8455812   0.7824657\n",
      "  -0.7123632 ]\n",
      " [-0.0076085   0.92962176  0.2510559  ...  0.455121   -0.7598654\n",
      "  -0.23819186]]\n",
      "==================================================================\n",
      "==================================================================\n",
      "항목명1 : DP_001\n",
      "항목수 : 4\n",
      "설문리스트\n",
      "0          組織は非常に個人的な場所であり大家族のようなものである色々ことお互いに共有している\n",
      "1    組織は非常に活力に溢れ起業家精神に満ちた場所である人々は積極的でありリスクをとることを厭わない\n",
      "2    組織は非常に規則を重視し構造的な場所である確立された手順や手続きが人々の行動を決めることが多い\n",
      "3                 組織は非常に生産志向である一番大事なことは仕事を成し遂げることである\n",
      "Name: q, dtype: object\n",
      "-------------------------------------------------------------------\n",
      "엠베딩벡터값\n",
      "[[-0.31615183 -0.13544664  0.05632579 ...  0.25555944 -0.78152055\n",
      "   0.24286607]\n",
      " [ 0.4230485   0.25063926  0.3471336  ...  0.7325235  -1.1429116\n",
      "  -0.417495  ]\n",
      " [-0.23540737  0.35324687  0.98058784 ...  1.3879824  -1.2840757\n",
      "   0.24816242]\n",
      " [ 0.48711407  0.24778076  0.51341367 ...  0.27946872  0.31311214\n",
      "  -0.06185759]]\n",
      "==================================================================\n",
      "==================================================================\n",
      "항목명1 : DP_002\n",
      "항목수 : 4\n",
      "설문리스트\n",
      "0    組織の上位者は一般的にメンター賢人または父親または母親のような人である\n",
      "1      組織の上位者は一般的に起業家革新者またはリスクを取る人のようである\n",
      "2                 組織の上位者は一般的に管理者のような人である\n",
      "3              組織の上位者は一般的に生産者技術者のような人である\n",
      "Name: q, dtype: object\n",
      "-------------------------------------------------------------------\n",
      "엠베딩벡터값\n",
      "[[-0.1148911  -0.00435016  0.5840973  ...  0.9435237  -0.95592237\n",
      "   0.04979629]\n",
      " [ 0.66911143  0.6843415   0.91821164 ...  0.71546847 -0.9569086\n",
      "  -0.39274928]\n",
      " [ 0.44445455  0.4736798   0.79975086 ...  1.2486838  -1.0447507\n",
      "  -0.49809408]\n",
      " [ 0.1771728   0.42277154  1.1183822  ...  0.8046583  -0.1739858\n",
      "  -0.485102  ]]\n",
      "==================================================================\n",
      "==================================================================\n",
      "항목명1 : DP_003\n",
      "항목수 : 4\n",
      "설문리스트\n",
      "0                 組織を結束させるものは忠誠心と伝統であるこの会社へのコミットメントは高い\n",
      "1        組織を結束させるものは革新と開発へのコミットメントである先行者になることに重点を置いている\n",
      "2           組織を結束させるものは正式な規則と方針である円滑な運営体制を維持することが重要である\n",
      "3    組織を結束させるものはタスクと目標達成に重点を置くことである製品やサービスをどのように提供す...\n",
      "Name: q, dtype: object\n",
      "-------------------------------------------------------------------\n",
      "엠베딩벡터값\n",
      "[[ 0.4716396   0.47636867 -0.11364595 ...  0.633113   -0.8300796\n",
      "  -0.58621716]\n",
      " [ 0.56900156  0.09461948  0.770011   ...  0.621523   -0.66800904\n",
      "  -0.0787908 ]\n",
      " [ 0.19316785  0.49367     0.8520972  ...  1.1977994  -0.9180336\n",
      "  -0.541613  ]\n",
      " [ 0.33140594  0.22280462 -0.4571324  ...  1.1316677  -0.6358753\n",
      "  -0.8884094 ]]\n",
      "==================================================================\n",
      "==================================================================\n",
      "항목명1 : DP_004\n",
      "항목수 : 4\n",
      "설문리스트\n",
      "0                    組織は人材を重視している会社の高い結束力と士気が重要である\n",
      "1    組織は成長と新しい資源の獲得を重視している新しい課題に対応する準備を整えることは重要である\n",
      "2            組織は永続性と安定性を重視している効率的で円滑なオペレーションは重要である\n",
      "3              組織は競争力のある行動と達成を重視している数値化された目標は重要である\n",
      "Name: q, dtype: object\n",
      "-------------------------------------------------------------------\n",
      "엠베딩벡터값\n",
      "[[ 0.6245902   0.7780913  -0.17208315 ...  0.80008787 -0.89856136\n",
      "  -1.3225957 ]\n",
      " [ 0.7150224   0.12195918  0.713202   ...  0.3013436  -0.7300384\n",
      "  -0.5575031 ]\n",
      " [ 0.86090755  0.6571434   0.02126621 ...  0.50782615 -1.2316108\n",
      "  -0.3359306 ]\n",
      " [ 0.65889716  0.39918646  0.21596135 ...  0.6231657  -0.71960795\n",
      "  -0.27348724]]\n",
      "==================================================================\n",
      "==================================================================\n",
      "항목명1 : ENGAGEMENT\n",
      "항목수 : 7\n",
      "설문리스트\n",
      "0    職場では元気が出て精力的になるように感じる\n",
      "1                 仕事に熱心である\n",
      "2           仕事は私に活力を与えてくれる\n",
      "3       仕事に没頭しているとき幸せだと感じる\n",
      "4             自分の仕事に誇りを感じる\n",
      "5              仕事にのめり込んでいる\n",
      "6      仕事をしているとつい夢中になってしまう\n",
      "Name: q, dtype: object\n",
      "-------------------------------------------------------------------\n",
      "엠베딩벡터값\n"
     ]
    },
    {
     "ename": "KeyError",
     "evalue": "'ENGAGEMENT'",
     "output_type": "error",
     "traceback": [
      "\u001b[1;31m---------------------------------------------------------------------------\u001b[0m",
      "\u001b[1;31mKeyError\u001b[0m                                  Traceback (most recent call last)",
      "Input \u001b[1;32mIn [10]\u001b[0m, in \u001b[0;36m<cell line: 1>\u001b[1;34m()\u001b[0m\n\u001b[0;32m      7\u001b[0m \u001b[38;5;28mprint\u001b[39m(\u001b[38;5;124m\"\u001b[39m\u001b[38;5;124m-------------------------------------------------------------------\u001b[39m\u001b[38;5;124m\"\u001b[39m)\n\u001b[0;32m      8\u001b[0m \u001b[38;5;28mprint\u001b[39m(\u001b[38;5;124m'\u001b[39m\u001b[38;5;124m엠베딩벡터값\u001b[39m\u001b[38;5;124m'\u001b[39m)\n\u001b[1;32m----> 9\u001b[0m \u001b[38;5;28mprint\u001b[39m(\u001b[38;5;28;43mglobals\u001b[39;49m\u001b[43m(\u001b[49m\u001b[43m)\u001b[49m\u001b[43m[\u001b[49m\u001b[43mi\u001b[49m\u001b[38;5;241;43m.\u001b[39;49m\u001b[43msplit\u001b[49m\u001b[43m(\u001b[49m\u001b[38;5;124;43m'\u001b[39;49m\u001b[38;5;124;43m.\u001b[39;49m\u001b[38;5;124;43m'\u001b[39;49m\u001b[43m)\u001b[49m\u001b[43m[\u001b[49m\u001b[38;5;241;43m0\u001b[39;49m\u001b[43m]\u001b[49m\u001b[43m]\u001b[49m)\n\u001b[0;32m     10\u001b[0m \u001b[38;5;28mprint\u001b[39m(\u001b[38;5;124m\"\u001b[39m\u001b[38;5;124m==================================================================\u001b[39m\u001b[38;5;124m\"\u001b[39m)\n",
      "\u001b[1;31mKeyError\u001b[0m: 'ENGAGEMENT'"
     ]
    }
   ],
   "source": [
    "#確認\n",
    "for i in files:\n",
    "    print(\"==================================================================\")\n",
    "    print('項目名 : {}'.format(i.split('.')[0]))\n",
    "    print('項目数 : {}'.format(len(globals()[i.split('.')[0]+str(\"_query\")])))\n",
    "    print('設問内容')\n",
    "    print(globals()[i.split('.')[0]+str(\"_query\")]['q'])\n",
    "    print(\"-------------------------------------------------------------------\")\n",
    "    print('embeddingベクトル')\n",
    "    print(globals()[i.split('.')[0]])\n",
    "    print(\"==================================================================\")"
   ]
  },
  {
   "cell_type": "markdown",
   "id": "1eb71623",
   "metadata": {},
   "source": [
    "# 類似度分析"
   ]
  },
  {
   "cell_type": "markdown",
   "id": "bbc27878",
   "metadata": {},
   "source": [
    "## コサイン類似度が高い順に並べる"
   ]
  },
  {
   "cell_type": "code",
   "execution_count": 27,
   "id": "7fd57227",
   "metadata": {
    "scrolled": false
   },
   "outputs": [
    {
     "name": "stdout",
     "output_type": "stream",
     "text": [
      "\n",
      "================================================================================================================================\n",
      "\n",
      "項目: 仕事生活の残りを今の会社で過ごせたらとても幸せだ\n",
      "                 \n",
      "なし福利厚生は本当にいい定年まで現場で動けるのであれは最高だとは思います (Score: 0.6935)\n",
      "日々の生活を守る会社の一員として社会貢献しているという気持ちで勤務できたことは良かったです (Score: 0.6785)\n",
      "\n",
      "================================================================================================================================\n",
      "\n",
      "項目: 会社の外の人に自分の会社のことを話すのが楽しい\n",
      "                 \n",
      "バリバリの営業職お客さんと話すことや自分の力で成果を挙げることを楽しいと感じる人 (Score: 0.6860)\n",
      "お客さんと話すのが好きな人売り場を自分で作って売上が跳ね上がった時などはかなり楽しいです (Score: 0.6842)\n",
      "\n",
      "================================================================================================================================\n",
      "\n",
      "項目: この会社の問題をまるで自分自身の問題であるかのように感じている\n",
      "                 \n",
      "何かあると全ての責任を負わされます自分で考えて行動したから当たり前な会社ですどう取るかは本人の気持ちです (Score: 0.6731)\n",
      "責任感はとても育ちます嫌でも育ちますお店の責任は全て自分にかかってきますので (Score: 0.6393)\n",
      "\n",
      "================================================================================================================================\n",
      "\n",
      "項目: 会社という家族の一員になっているように思う\n",
      "                 \n",
      "資格取得は全部会社で負担この会社で働いて人と人とのつながりの大切さを学べた人を大切にすると自分に良いことがある今の職場でいかせてますこの会社にくらべ育児介護今は摘めたい会社です採用も子育て終えた50代を採用子供が小さい若い人は休みをとるかもしれないからダメと上はいうこの会社の子育てに対して若いママでも頑張れるていうのを子育てママに冷たい今の会社をかえていきたいこの会社のようにと今見習い今の会社をかえたい (Score: 0.6238)\n",
      "名が知れた企業なので友人親族などにすごいと思ってもらえる点ぐらいです革新的なイメージがあると思いますがいたって普通の会社なのでいたって普通の会社が運営していくために働いている人が大半だということを忘れないでほしいです (Score: 0.6228)\n",
      "\n",
      "================================================================================================================================\n",
      "\n",
      "項目: この会社に愛情を感じていると思う\n",
      "                 \n",
      "お客様に喜んでいただいけるとやりがいを感じることがある (Score: 0.7208)\n",
      "社会や顧客の役に立っていると感じているお客様から感謝の言葉を言われたときはとても嬉しいと思うしもちろん会社の従業員として会社に貢献できればそれなりの自尊心を保つことができる (Score: 0.7203)\n",
      "\n",
      "================================================================================================================================\n",
      "\n",
      "項目: この会社は私にとって個人的に重要な意味を持っている\n",
      "                 \n",
      "大きな会社なので誰に社名を言っても知っているという点で誇りを持って働く事ができると思います (Score: 0.6238)\n",
      "会社にプライドを持っている人が多い (Score: 0.6221)\n",
      "\n",
      "================================================================================================================================\n",
      "\n",
      "項目: 自分の会社の一員なのだと強く感じることがある\n",
      "                 \n",
      "大手の会社のため貢献していると感じることは大きいと思いますが営業さんやメンバーの役に立てていると感じたとき (Score: 0.7139)\n",
      "大きな会社なので誰に社名を言っても知っているという点で誇りを持って働く事ができると思います (Score: 0.6972)\n",
      "\n",
      "================================================================================================================================\n",
      "\n"
     ]
    }
   ],
   "source": [
    "for query, query_embedding in zip(CM_001_query['q'], CM_001):\n",
    "    d = scipy.spatial.distance.cdist([query_embedding], sentence_vectors_seicho, metric=\"cosine\")[0] #코사인거리 계산\n",
    "    e=1-d\n",
    "\n",
    "    results = zip(range(len(e)), e) #コサイン類似度集計\n",
    "    results = sorted(results, key=lambda x: x[1],reverse=True) #リスト化\n",
    "\n",
    "    print(\"\\n================================================================================================================================\\n\")\n",
    "    print(\"項目:\", query)\n",
    "    print(\"                 \")\n",
    "    for idx, distance in results[0:2]: #何番目まで表示するか指定\n",
    "        print(data[idx].strip(), \"(Score: %.4f)\" % (distance))\n",
    "print(\"\\n================================================================================================================================\\n\")\n"
   ]
  },
  {
   "cell_type": "markdown",
   "id": "b792580a",
   "metadata": {},
   "source": [
    "## コサイン類似度だけ算出"
   ]
  },
  {
   "cell_type": "code",
   "execution_count": 14,
   "id": "6e9089fb",
   "metadata": {},
   "outputs": [],
   "source": [
    "DATA_OUT_PATH = 'C:/r_analysis/1.20221101/6.similarity/'"
   ]
  },
  {
   "cell_type": "code",
   "execution_count": 15,
   "id": "48cf98e7",
   "metadata": {},
   "outputs": [
    {
     "name": "stdout",
     "output_type": "stream",
     "text": [
      "        CM01_01   CM01_02   CM01_03   CM01_04   CM01_05   CM01_06   CM01_07\n",
      "0      0.358681  0.178321  0.435077  0.272600  0.311845  0.292773  0.331626\n",
      "1      0.410611  0.343696  0.334813  0.396275  0.393568  0.410069  0.473619\n",
      "2      0.438531  0.333019  0.361114  0.434440  0.448463  0.425638  0.519067\n",
      "3      0.478306  0.361205  0.349161  0.359096  0.490814  0.461305  0.514312\n",
      "4      0.403609  0.158250  0.334524  0.384020  0.419057  0.351953  0.446974\n",
      "...         ...       ...       ...       ...       ...       ...       ...\n",
      "34809  0.176042  0.374078  0.072624  0.162651  0.217228  0.136812  0.246095\n",
      "34810  0.332392  0.242123  0.164486  0.312511  0.331925  0.312082  0.361494\n",
      "34811  0.408173  0.278271  0.243791  0.353280  0.454682  0.395760  0.442346\n",
      "34812  0.344964  0.146120  0.492269  0.289013  0.327928  0.293874  0.427159\n",
      "34813  0.179293  0.369576  0.383125  0.178107  0.238091  0.226427  0.285572\n",
      "\n",
      "[34814 rows x 7 columns]\n"
     ]
    }
   ],
   "source": [
    "cosine_sim = util.pytorch_cos_sim(CM_001, sentence_vectors_seicho)\n",
    "cosine_sim= cosine_sim.numpy()\n",
    "cosine_sim = cosine_sim.transpose()\n",
    "cosine_sim= pd.DataFrame(cosine_sim)\n",
    "cosine_sim.columns=['CM01_01','CM01_02','CM01_03','CM01_04','CM01_05','CM01_06','CM01_07']\n",
    "cosine_sim.to_csv(DATA_OUT_PATH + 'CM_01.csv', index=False, quoting=3, encoding=\"CP932\") \n",
    "print(cosine_sim)"
   ]
  },
  {
   "cell_type": "code",
   "execution_count": 17,
   "id": "5cd51fc6",
   "metadata": {},
   "outputs": [
    {
     "name": "stdout",
     "output_type": "stream",
     "text": [
      "        CM02_01   CM02_02   CM02_03   CM02_04   CM02_05   CM02_06   CM02_08\n",
      "0      0.494074  0.505936  0.531629  0.549199  0.499005  0.571113  0.525312\n",
      "1      0.329808  0.373059  0.310772  0.305115  0.546007  0.357879  0.437870\n",
      "2      0.463570  0.505693  0.470270  0.445652  0.674438  0.483031  0.587742\n",
      "3      0.387799  0.379436  0.342047  0.357218  0.555357  0.393153  0.496308\n",
      "4      0.454201  0.468716  0.391007  0.442179  0.554544  0.506737  0.556854\n",
      "...         ...       ...       ...       ...       ...       ...       ...\n",
      "34809  0.150361  0.186388  0.135020  0.091284  0.250614  0.154031  0.063465\n",
      "34810  0.186063  0.223494  0.146086  0.149195  0.350181  0.225812  0.246086\n",
      "34811  0.226662  0.273323  0.205245  0.250706  0.389185  0.279821  0.272944\n",
      "34812  0.566081  0.588922  0.490752  0.540531  0.581118  0.561620  0.476551\n",
      "34813  0.306023  0.276865  0.168285  0.186626  0.324776  0.224658  0.239212\n",
      "\n",
      "[34814 rows x 7 columns]\n"
     ]
    }
   ],
   "source": [
    "cosine_sim = util.pytorch_cos_sim(CM_002, sentence_vectors_seicho)\n",
    "cosine_sim= cosine_sim.numpy()\n",
    "cosine_sim = cosine_sim.transpose()\n",
    "cosine_sim= pd.DataFrame(cosine_sim)\n",
    "cosine_sim.columns=['CM02_01','CM02_02','CM02_03','CM02_04','CM02_05','CM02_06','CM02_08']\n",
    "cosine_sim.to_csv(DATA_OUT_PATH + 'CM_02.csv', index=False, quoting=3, encoding=\"CP932\") \n",
    "print(cosine_sim)\n"
   ]
  },
  {
   "cell_type": "code",
   "execution_count": 19,
   "id": "5a8a5a0a",
   "metadata": {},
   "outputs": [
    {
     "name": "stdout",
     "output_type": "stream",
     "text": [
      "        CM03_01   CM03_02   CM03_03   CM03_04   CM03_05   CM03_07   CM03_08\n",
      "0      0.457736  0.178814  0.406696  0.344372  0.391996  0.296688  0.325907\n",
      "1      0.411290  0.414169  0.363333  0.507784  0.457641  0.436029  0.548654\n",
      "2      0.589487  0.381662  0.472666  0.425277  0.534323  0.466035  0.525429\n",
      "3      0.392082  0.316514  0.327293  0.448457  0.472920  0.452972  0.578923\n",
      "4      0.449151  0.320370  0.371945  0.473006  0.517479  0.366622  0.449238\n",
      "...         ...       ...       ...       ...       ...       ...       ...\n",
      "34809  0.300614  0.154831  0.063929  0.278491  0.187270  0.219407  0.422417\n",
      "34810  0.297801  0.337752  0.160788  0.456285  0.296238  0.344463  0.546643\n",
      "34811  0.323664  0.278727  0.221002  0.393055  0.352873  0.486010  0.553865\n",
      "34812  0.521427  0.310933  0.470174  0.435259  0.466511  0.378607  0.377375\n",
      "34813  0.240856  0.260806  0.252206  0.222429  0.284838  0.220320  0.366596\n",
      "\n",
      "[34814 rows x 7 columns]\n"
     ]
    }
   ],
   "source": [
    "cosine_sim = util.pytorch_cos_sim(CM_003, sentence_vectors_seicho)\n",
    "cosine_sim= cosine_sim.numpy()\n",
    "cosine_sim = cosine_sim.transpose()\n",
    "cosine_sim= pd.DataFrame(cosine_sim)\n",
    "cosine_sim.columns=['CM03_01','CM03_02','CM03_03','CM03_04','CM03_05','CM03_07','CM03_08']\n",
    "cosine_sim.to_csv(DATA_OUT_PATH + 'CM_03.csv', index=False, quoting=3, encoding=\"CP932\") \n",
    "print(cosine_sim)"
   ]
  },
  {
   "cell_type": "code",
   "execution_count": 21,
   "id": "e86a46d0",
   "metadata": {},
   "outputs": [
    {
     "name": "stdout",
     "output_type": "stream",
     "text": [
      "        DP01_01   DP01_02   DP01_03   DP01_04\n",
      "0      0.089762  0.242829  0.101872  0.401408\n",
      "1      0.375554  0.570494  0.403375  0.595043\n",
      "2      0.263739  0.509605  0.199599  0.490457\n",
      "3      0.202556  0.454835  0.238817  0.589340\n",
      "4      0.168506  0.410989  0.102225  0.378331\n",
      "...         ...       ...       ...       ...\n",
      "34809  0.151238  0.345644  0.348631  0.355392\n",
      "34810  0.200650  0.448448  0.253060  0.381679\n",
      "34811  0.301051  0.358525  0.267602  0.346572\n",
      "34812  0.198464  0.427667  0.204615  0.310747\n",
      "34813  0.355698  0.432933  0.392806  0.195937\n",
      "\n",
      "[34814 rows x 4 columns]\n"
     ]
    }
   ],
   "source": [
    "cosine_sim = util.pytorch_cos_sim(DP_001, sentence_vectors_seicho)\n",
    "cosine_sim= cosine_sim.numpy()\n",
    "cosine_sim = cosine_sim.transpose()\n",
    "cosine_sim= pd.DataFrame(cosine_sim)\n",
    "cosine_sim.columns=['DP01_01','DP01_02','DP01_03','DP01_04']\n",
    "cosine_sim.to_csv(DATA_OUT_PATH + 'DP01.csv', index=False, quoting=3, encoding=\"CP932\") \n",
    "print(cosine_sim)"
   ]
  },
  {
   "cell_type": "code",
   "execution_count": 23,
   "id": "b889d757",
   "metadata": {},
   "outputs": [
    {
     "name": "stdout",
     "output_type": "stream",
     "text": [
      "        DP02_01   DP02_02   DP02_03   DP02_04\n",
      "0      0.126267  0.278907  0.113763  0.273333\n",
      "1      0.446139  0.576367  0.499839  0.582871\n",
      "2      0.276671  0.543921  0.296898  0.493337\n",
      "3      0.266494  0.469672  0.306727  0.515525\n",
      "4      0.248290  0.442514  0.197079  0.349398\n",
      "...         ...       ...       ...       ...\n",
      "34809  0.158613  0.297703  0.208720  0.310121\n",
      "34810  0.402814  0.505673  0.453960  0.469843\n",
      "34811  0.363493  0.365104  0.424007  0.368434\n",
      "34812  0.174101  0.328431  0.228908  0.205560\n",
      "34813  0.240409  0.279661  0.274803  0.205213\n",
      "\n",
      "[34814 rows x 4 columns]\n"
     ]
    }
   ],
   "source": [
    "cosine_sim = util.pytorch_cos_sim(DP_002, sentence_vectors_seicho)\n",
    "cosine_sim= cosine_sim.numpy()\n",
    "cosine_sim = cosine_sim.transpose()\n",
    "cosine_sim= pd.DataFrame(cosine_sim)\n",
    "cosine_sim.columns=['DP02_01','DP02_02','DP02_03','DP02_04']\n",
    "cosine_sim.to_csv(DATA_OUT_PATH + 'DP02.csv', index=False, quoting=3, encoding=\"CP932\") \n",
    "print(cosine_sim)"
   ]
  },
  {
   "cell_type": "code",
   "execution_count": 25,
   "id": "3024d67b",
   "metadata": {},
   "outputs": [
    {
     "name": "stdout",
     "output_type": "stream",
     "text": [
      "        DP03_01   DP03_02   DP03_03   DP03_04\n",
      "0      0.169027  0.263265  0.098411  0.272824\n",
      "1      0.536400  0.552031  0.451535  0.620985\n",
      "2      0.389437  0.383299  0.139344  0.384182\n",
      "3      0.347283  0.398166  0.202024  0.427785\n",
      "4      0.342146  0.380963  0.138606  0.319352\n",
      "...         ...       ...       ...       ...\n",
      "34809  0.225905  0.421801  0.277456  0.367364\n",
      "34810  0.376168  0.445365  0.327226  0.380472\n",
      "34811  0.376104  0.296404  0.320004  0.398873\n",
      "34812  0.287475  0.330806  0.190048  0.341250\n",
      "34813  0.331697  0.359326  0.356266  0.412163\n",
      "\n",
      "[34814 rows x 4 columns]\n"
     ]
    }
   ],
   "source": [
    "cosine_sim = util.pytorch_cos_sim(DP_003, sentence_vectors_seicho)\n",
    "cosine_sim= cosine_sim.numpy()\n",
    "cosine_sim = cosine_sim.transpose()\n",
    "cosine_sim= pd.DataFrame(cosine_sim)\n",
    "cosine_sim.columns=['DP03_01','DP03_02','DP03_03','DP03_04']\n",
    "cosine_sim.to_csv(DATA_OUT_PATH + 'DP03.csv', index=False, quoting=3, encoding=\"CP932\") \n",
    "print(cosine_sim)"
   ]
  },
  {
   "cell_type": "code",
   "execution_count": 27,
   "id": "5d77bf2c",
   "metadata": {},
   "outputs": [
    {
     "name": "stdout",
     "output_type": "stream",
     "text": [
      "        DP04_01   DP04_02   DP04_03   DP04_04\n",
      "0      0.214621  0.367588  0.224974  0.201009\n",
      "1      0.678569  0.584163  0.505265  0.533833\n",
      "2      0.498829  0.442428  0.301718  0.350856\n",
      "3      0.466770  0.479136  0.373212  0.371747\n",
      "4      0.405879  0.372733  0.241638  0.252960\n",
      "...         ...       ...       ...       ...\n",
      "34809  0.340753  0.410831  0.352442  0.262140\n",
      "34810  0.568742  0.504438  0.406045  0.361041\n",
      "34811  0.389790  0.393271  0.410166  0.278445\n",
      "34812  0.280549  0.283066  0.282462  0.223845\n",
      "34813  0.307392  0.263231  0.279049  0.211221\n",
      "\n",
      "[34814 rows x 4 columns]\n"
     ]
    }
   ],
   "source": [
    "cosine_sim = util.pytorch_cos_sim(DP_004, sentence_vectors_seicho)\n",
    "cosine_sim= cosine_sim.numpy()\n",
    "cosine_sim = cosine_sim.transpose()\n",
    "cosine_sim= pd.DataFrame(cosine_sim)\n",
    "cosine_sim.columns=['DP04_01','DP04_02','DP04_03','DP04_04']\n",
    "cosine_sim.to_csv(DATA_OUT_PATH + 'DP04.csv', index=False, quoting=3, encoding=\"CP932\") \n",
    "print(cosine_sim)"
   ]
  },
  {
   "cell_type": "code",
   "execution_count": 29,
   "id": "bfd578b8",
   "metadata": {},
   "outputs": [
    {
     "name": "stdout",
     "output_type": "stream",
     "text": [
      "        OCI_H_1   OCI_H_2   OCI_H_3   OCI_H_4   OCI_H_5   OCI_H_6   OCI_H_7  \\\n",
      "0      0.141818  0.186825  0.122748 -0.000182  0.225583 -0.030554  0.163258   \n",
      "1      0.372389  0.316990  0.317930  0.092264  0.407687  0.203242  0.429171   \n",
      "2      0.244424  0.200539  0.207586  0.120649  0.383918  0.106520  0.255809   \n",
      "3      0.290266  0.223803  0.194459  0.041291  0.382925  0.142306  0.284440   \n",
      "4      0.229012  0.339351  0.307518  0.042365  0.428526  0.150885  0.247887   \n",
      "...         ...       ...       ...       ...       ...       ...       ...   \n",
      "34809  0.422642  0.424566  0.284415  0.134472  0.325268  0.220038  0.404047   \n",
      "34810  0.350750  0.202259  0.320275  0.030486  0.470569  0.221045  0.239688   \n",
      "34811  0.408866  0.181162  0.202957  0.114870  0.377793  0.266129  0.282269   \n",
      "34812  0.409613  0.261325  0.413597  0.140881  0.336843  0.141756  0.384952   \n",
      "34813  0.448476  0.227834  0.297347  0.109435  0.155793  0.262022  0.392724   \n",
      "\n",
      "        OCI_H_8   OCI_H_9  OCI_H_10  \n",
      "0      0.112371  0.041094  0.173486  \n",
      "1      0.257609  0.191211  0.285141  \n",
      "2      0.243871  0.078386  0.312084  \n",
      "3      0.283118  0.103398  0.288157  \n",
      "4      0.205879  0.004853  0.307668  \n",
      "...         ...       ...       ...  \n",
      "34809  0.307074  0.258618  0.290848  \n",
      "34810  0.340069  0.143165  0.261314  \n",
      "34811  0.309057  0.207519  0.334028  \n",
      "34812  0.180551  0.101387  0.375885  \n",
      "34813  0.212716  0.223538  0.279687  \n",
      "\n",
      "[34814 rows x 10 columns]\n"
     ]
    }
   ],
   "source": [
    "cosine_sim = util.pytorch_cos_sim(OCI_01_001, sentence_vectors_seicho)\n",
    "cosine_sim= cosine_sim.numpy()\n",
    "cosine_sim = cosine_sim.transpose()\n",
    "cosine_sim= pd.DataFrame(cosine_sim)\n",
    "cosine_sim.columns=['OCI_H_1','OCI_H_2','OCI_H_3','OCI_H_4','OCI_H_5','OCI_H_6','OCI_H_7','OCI_H_8','OCI_H_9','OCI_H_10']\n",
    "cosine_sim.to_csv(DATA_OUT_PATH + 'OCI_01_01.csv', index=False, quoting=3, encoding=\"CP932\") \n",
    "print(cosine_sim)"
   ]
  },
  {
   "cell_type": "code",
   "execution_count": 31,
   "id": "8ac6373b",
   "metadata": {},
   "outputs": [
    {
     "name": "stdout",
     "output_type": "stream",
     "text": [
      "       OCI_AF_1  OCI_AF_2  OCI_AF_3  OCI_AF_4  OCI_AF_5  OCI_AF_6  OCI_AF_7  \\\n",
      "0      0.091598  0.192424  0.058616  0.187555  0.050453  0.201950  0.142335   \n",
      "1      0.211743  0.268360  0.240619  0.568275  0.146557  0.282618  0.269512   \n",
      "2      0.136865  0.302968  0.222306  0.414223  0.178138  0.297710  0.244557   \n",
      "3      0.154087  0.273889  0.209264  0.506099  0.134494  0.371755  0.293116   \n",
      "4      0.148427  0.287879  0.130622  0.290426  0.137922  0.167484  0.211629   \n",
      "...         ...       ...       ...       ...       ...       ...       ...   \n",
      "34809  0.226199  0.316835  0.368476  0.501436  0.263579  0.400920  0.364632   \n",
      "34810  0.128597  0.261981  0.276453  0.503155  0.148436  0.286690  0.288568   \n",
      "34811  0.171329  0.285571  0.367721  0.586044  0.135444  0.365332  0.350196   \n",
      "34812  0.250323  0.324186  0.148939  0.265253  0.146112  0.304893  0.324080   \n",
      "34813  0.339926  0.259256  0.201091  0.371915  0.253388  0.267154  0.333426   \n",
      "\n",
      "       OCI_AF_8  OCI_AF_9  OCI_AF_10  \n",
      "0      0.242105  0.145753   0.049909  \n",
      "1      0.503147  0.426363   0.217463  \n",
      "2      0.384249  0.235977   0.193588  \n",
      "3      0.388463  0.292571   0.193370  \n",
      "4      0.271037  0.349404   0.091681  \n",
      "...         ...       ...        ...  \n",
      "34809  0.234452  0.389473   0.360054  \n",
      "34810  0.412478  0.348062   0.184752  \n",
      "34811  0.369475  0.362762   0.313794  \n",
      "34812  0.243690  0.412694   0.212615  \n",
      "34813  0.252120  0.376830   0.406410  \n",
      "\n",
      "[34814 rows x 10 columns]\n"
     ]
    }
   ],
   "source": [
    "cosine_sim = util.pytorch_cos_sim(OCI_01_002, sentence_vectors_seicho)\n",
    "cosine_sim= cosine_sim.numpy()\n",
    "cosine_sim = cosine_sim.transpose()\n",
    "cosine_sim= pd.DataFrame(cosine_sim)\n",
    "cosine_sim.columns=['OCI_AF_1','OCI_AF_2','OCI_AF_3','OCI_AF_4','OCI_AF_5','OCI_AF_6','OCI_AF_7','OCI_AF_8','OCI_AF_9','OCI_AF_10']\n",
    "cosine_sim.to_csv(DATA_OUT_PATH + 'OCI_01_02.csv', index=False, quoting=3, encoding=\"CP932\") \n",
    "print(cosine_sim)"
   ]
  },
  {
   "cell_type": "code",
   "execution_count": 33,
   "id": "c26552de",
   "metadata": {},
   "outputs": [
    {
     "name": "stdout",
     "output_type": "stream",
     "text": [
      "       OCI_AC_1  OCI_AC_2  OCI_AC_3  OCI_AC_4  OCI_AC_5  OCI_AC_6  OCI_AC_7  \\\n",
      "0      0.311875  0.195395  0.154282  0.131849  0.143538  0.194342  0.242154   \n",
      "1      0.553575  0.450817  0.304150  0.397467  0.261760  0.108551  0.343251   \n",
      "2      0.408102  0.245002  0.208915  0.243843  0.184232  0.066451  0.288403   \n",
      "3      0.482719  0.312549  0.249967  0.352144  0.190815  0.060404  0.244841   \n",
      "4      0.403133  0.252707  0.223649  0.202573  0.068226  0.068325  0.226700   \n",
      "...         ...       ...       ...       ...       ...       ...       ...   \n",
      "34809  0.459652  0.322975  0.274723  0.329370  0.331778  0.200933  0.173048   \n",
      "34810  0.505495  0.395944  0.236937  0.412750  0.208964  0.087734  0.201852   \n",
      "34811  0.407319  0.276315  0.200800  0.373388  0.231431  0.024215  0.172002   \n",
      "34812  0.405445  0.358739  0.332017  0.170960  0.233758  0.239364  0.336368   \n",
      "34813  0.167479  0.151323  0.271527  0.186196  0.138622  0.187975  0.204563   \n",
      "\n",
      "       OCI_AC_8  OCI_AC_9  OCI_AC_10  \n",
      "0      0.296511  0.136446   0.181606  \n",
      "1      0.453871  0.350895   0.277646  \n",
      "2      0.345784  0.404396   0.288900  \n",
      "3      0.395392  0.479474   0.266947  \n",
      "4      0.461527  0.192883   0.271696  \n",
      "...         ...       ...        ...  \n",
      "34809  0.334803  0.239184   0.252027  \n",
      "34810  0.343870  0.345402   0.248202  \n",
      "34811  0.415646  0.432336   0.245009  \n",
      "34812  0.488793  0.178283   0.370764  \n",
      "34813  0.318617  0.195102   0.181676  \n",
      "\n",
      "[34814 rows x 10 columns]\n"
     ]
    }
   ],
   "source": [
    "cosine_sim = util.pytorch_cos_sim(OCI_01_003, sentence_vectors_seicho)\n",
    "cosine_sim= cosine_sim.numpy()\n",
    "cosine_sim = cosine_sim.transpose()\n",
    "cosine_sim= pd.DataFrame(cosine_sim)\n",
    "cosine_sim.columns=['OCI_AC_1','OCI_AC_2','OCI_AC_3','OCI_AC_4','OCI_AC_5','OCI_AC_6','OCI_AC_7','OCI_AC_8','OCI_AC_9','OCI_AC_10']\n",
    "cosine_sim.to_csv(DATA_OUT_PATH + 'OCI_01_03.csv', index=False, quoting=3, encoding=\"CP932\") \n",
    "print(cosine_sim)"
   ]
  },
  {
   "cell_type": "code",
   "execution_count": 35,
   "id": "44f4b4b8",
   "metadata": {},
   "outputs": [
    {
     "name": "stdout",
     "output_type": "stream",
     "text": [
      "       OCI_SA_1  OCI_SA_2  OCI_SA_3  OCI_SA_4  OCI_SA_5  OCI_SA_6  OCI_SA_7  \\\n",
      "0      0.163238  0.316151  0.086415  0.055338  0.069220  0.280244  0.241588   \n",
      "1      0.212275  0.435218  0.355298  0.262983  0.204337  0.258031  0.274239   \n",
      "2      0.170494  0.447624  0.228985  0.097411  0.149162  0.337639  0.330389   \n",
      "3      0.220744  0.521857  0.267195  0.157164  0.232884  0.246118  0.323347   \n",
      "4      0.096223  0.372612  0.222501  0.088583  0.146608  0.270243  0.233968   \n",
      "...         ...       ...       ...       ...       ...       ...       ...   \n",
      "34809  0.229611  0.412893  0.272425  0.370571  0.244442  0.170643  0.158252   \n",
      "34810  0.128236  0.361162  0.353293  0.166477  0.226193  0.241070  0.172609   \n",
      "34811  0.199777  0.514213  0.396739  0.280916  0.300577  0.169557  0.276312   \n",
      "34812  0.197459  0.345705  0.225151  0.105521  0.336665  0.376811  0.232041   \n",
      "34813  0.198843  0.236177  0.302257  0.585148  0.273535  0.113282  0.133404   \n",
      "\n",
      "       OCI_SA_8  OCI_SA_9  OCI_SA_10  \n",
      "0      0.274183  0.187586   0.178273  \n",
      "1      0.491181  0.254521   0.185677  \n",
      "2      0.444890  0.236064   0.142611  \n",
      "3      0.522501  0.216039   0.100360  \n",
      "4      0.292768  0.219858   0.177861  \n",
      "...         ...       ...        ...  \n",
      "34809  0.409560  0.303289   0.079141  \n",
      "34810  0.420835  0.165218   0.004422  \n",
      "34811  0.594100  0.055325  -0.006586  \n",
      "34812  0.472586  0.389812   0.301787  \n",
      "34813  0.397423  0.231167   0.255874  \n",
      "\n",
      "[34814 rows x 10 columns]\n"
     ]
    }
   ],
   "source": [
    "cosine_sim = util.pytorch_cos_sim(OCI_01_004, sentence_vectors_seicho)\n",
    "cosine_sim= cosine_sim.numpy()\n",
    "cosine_sim = cosine_sim.transpose()\n",
    "cosine_sim= pd.DataFrame(cosine_sim)\n",
    "cosine_sim.columns=['OCI_SA_1','OCI_SA_2','OCI_SA_3','OCI_SA_4','OCI_SA_5','OCI_SA_6','OCI_SA_7','OCI_SA_8','OCI_SA_9','OCI_SA_10']\n",
    "cosine_sim.to_csv(DATA_OUT_PATH + 'OCI_01_04.csv', index=False, quoting=3, encoding=\"CP932\") \n",
    "print(cosine_sim)"
   ]
  }
 ],
 "metadata": {
  "kernelspec": {
   "display_name": "Python 3 (ipykernel)",
   "language": "python",
   "name": "python3"
  },
  "language_info": {
   "codemirror_mode": {
    "name": "ipython",
    "version": 3
   },
   "file_extension": ".py",
   "mimetype": "text/x-python",
   "name": "python",
   "nbconvert_exporter": "python",
   "pygments_lexer": "ipython3",
   "version": "3.9.12"
  }
 },
 "nbformat": 4,
 "nbformat_minor": 5
}
